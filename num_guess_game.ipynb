{
 "cells": [
  {
   "cell_type": "markdown",
   "id": "51fabd7c",
   "metadata": {},
   "source": [
    "# Number Guessing Game:\n",
    "\n",
    "### Goal:\n",
    "\n",
    "- The computer picks a random number between 1 and 100.\n",
    "\n",
    "- You guess until you find the right number.\n",
    "\n",
    "- The program gives hints (“Too high!” / “Too low!”).\n",
    "\n",
    "- It counts the number of attempts."
   ]
  },
  {
   "cell_type": "code",
   "execution_count": null,
   "id": "a8b41913",
   "metadata": {},
   "outputs": [],
   "source": [
    "import random\n",
    "\n",
    "# chosen number\n",
    "num = random.randint(1,100)\n",
    "\n",
    "guess = 0\n",
    "\n",
    "# attempts\n",
    "attempt = 0\n",
    "while guess != num:\n",
    "    guess = int(input(\"Enter your guess (1-100): \"))\n",
    "    attempt += 1\n",
    "    if guess == num:\n",
    "        print (\"Got it.\")\n",
    "        break\n",
    "    elif guess > num:\n",
    "        print (guess, \"is too high!\")\n",
    "    else:\n",
    "        print (guess, \"is too low!\")\n",
    "\n",
    "print(\"You guessed the number in\", attempt)\n",
    "\n"
   ]
  },
  {
   "cell_type": "markdown",
   "id": "414690d4",
   "metadata": {},
   "source": [
    "## Improvements: \n",
    "\n",
    "- Input validation (handle empty or wrong inputs)\n",
    "- Give feedback when the guess is close \n",
    "- Limit attempts + offer rematch option\n"
   ]
  },
  {
   "cell_type": "code",
   "execution_count": null,
   "id": "e6f92be7",
   "metadata": {},
   "outputs": [],
   "source": [
    "import random\n",
    "\n",
    "\n",
    "while True:\n",
    "\n",
    "    num = random.randint(1,100)\n",
    "    attempt = 0\n",
    "    max_attempt = 10\n",
    "    guess = 0\n",
    "\n",
    "    print(\"\\nI'm thinking of a number between 1 and 100.\")\n",
    "    print(f\"You have {max_attempt} attempts. Good luck!\")\n",
    "\n",
    "\n",
    "    while attempt < max_attempt:\n",
    "        try:\n",
    "            guess = int(input(\"Enter your guess (1-100): \"))\n",
    "            if guess < 1 or guess > 100:\n",
    "                print(\"Please enter a number between 1 and 100.\")\n",
    "                continue\n",
    "\n",
    "            attempt += 1\n",
    "\n",
    "            if guess == num:\n",
    "                print(f\"You guessed the number in {attempt} attempts.\")\n",
    "                break\n",
    "            elif guess > num:\n",
    "                if abs(num - guess) <= 2:\n",
    "                    print(guess, \"is too high - but close.\")\n",
    "                else:\n",
    "                    print (guess, \"is too high!\")\n",
    "            elif guess < num: \n",
    "                if abs(num-guess) <= 2:\n",
    "                    print(guess,\"is too low - but close.\")\n",
    "                else:\n",
    "                    print (guess, \"is too low!\")\n",
    "            \n",
    "            if attempt < max_attempt:\n",
    "                print(f\"Attempts left: {max_attempt - attempt}\")\n",
    "        except ValueError:\n",
    "            print(\"Please enter a number.\")\n",
    "    else:\n",
    "        print (\"Sorry you were not able to guess the number, and the number was\", num)\n",
    "\n",
    "    rematch = input (\"\\nWould you like to play again? (y/n): \").lower()\n",
    "    if rematch != \"y\":\n",
    "        print(\"\\nThanks for playing. Bye!\")\n",
    "        break\n",
    "\n"
   ]
  }
 ],
 "metadata": {
  "kernelspec": {
   "display_name": "datalab",
   "language": "python",
   "name": "python3"
  },
  "language_info": {
   "codemirror_mode": {
    "name": "ipython",
    "version": 3
   },
   "file_extension": ".py",
   "mimetype": "text/x-python",
   "name": "python",
   "nbconvert_exporter": "python",
   "pygments_lexer": "ipython3",
   "version": "3.11.14"
  }
 },
 "nbformat": 4,
 "nbformat_minor": 5
}
